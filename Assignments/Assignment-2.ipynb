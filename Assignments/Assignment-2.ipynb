{
 "cells": [
  {
   "cell_type": "markdown",
   "metadata": {},
   "source": [
    "# Assignment 2"
   ]
  },
  {
   "cell_type": "markdown",
   "metadata": {},
   "source": [
    "# TASK 1"
   ]
  },
  {
   "cell_type": "markdown",
   "metadata": {},
   "source": [
    "1.1 Write a Python Program to implement your own myreduce() function which works exactly\n",
    "like Python's built-in function reduce()\n"
   ]
  },
  {
   "cell_type": "code",
   "execution_count": 20,
   "metadata": {},
   "outputs": [
    {
     "name": "stdout",
     "output_type": "stream",
     "text": [
      "384\n"
     ]
    }
   ],
   "source": [
    "def multiply(a,b):\n",
    "    return a*b\n",
    "    \n",
    "def myreduce(f,l):\n",
    "    m=l[0]\n",
    "    for i in l[1:]:\n",
    "        m=f(m,i)\n",
    "    return m\n",
    "l=[2,4,6,8]\n",
    "print(myreduce(multiply,l))"
   ]
  },
  {
   "cell_type": "markdown",
   "metadata": {},
   "source": [
    "1.2 Write a Python program to implement your own myfilter() function which works exactly\n",
    "like Python's built-in function filter()"
   ]
  },
  {
   "cell_type": "code",
   "execution_count": 21,
   "metadata": {},
   "outputs": [
    {
     "name": "stdout",
     "output_type": "stream",
     "text": [
      "[5, 9, 11]\n"
     ]
    }
   ],
   "source": [
    "def odd_check(a):\n",
    "    if a % 2 != 0:\n",
    "        return True\n",
    "    else:\n",
    "        return False\n",
    "    \n",
    "def myfilter(s,l):\n",
    "    l2=[]\n",
    "    for i in l:\n",
    "        if s(i):\n",
    "            l2.append(i)\n",
    "    return l2\n",
    "\n",
    "l=[2,5,6,9,11]\n",
    "print(myfilter(odd_check,l))\n"
   ]
  },
  {
   "cell_type": "markdown",
   "metadata": {},
   "source": [
    "2. Implement List comprehensions to produce the following lists:\n",
    "\n",
    "a) ['A', 'C', 'A', 'D', 'G', 'I', 'L', 'D']"
   ]
  },
  {
   "cell_type": "code",
   "execution_count": 3,
   "metadata": {},
   "outputs": [
    {
     "name": "stdout",
     "output_type": "stream",
     "text": [
      "['A', 'C', 'A', 'D', 'G', 'I', 'L', 'D']\n"
     ]
    }
   ],
   "source": [
    "a='ACADGILD'\n",
    "m=[i for i in a]\n",
    "print(m)"
   ]
  },
  {
   "cell_type": "markdown",
   "metadata": {},
   "source": [
    "b) ['x', 'xx', 'xxx', 'xxxx', 'y', 'yy', 'yyy', 'yyyy', 'z', 'zz', 'zzz', 'zzzz']"
   ]
  },
  {
   "cell_type": "code",
   "execution_count": 4,
   "metadata": {},
   "outputs": [
    {
     "name": "stdout",
     "output_type": "stream",
     "text": [
      "['x', 'xx', 'xxx', 'xxxx', 'y', 'yy', 'yyy', 'yyyy', 'z', 'zz', 'zzz', 'zzzz']\n"
     ]
    }
   ],
   "source": [
    "m=[a*i for a in 'xyz' for i in range(1,5)]\n",
    "print(m)"
   ]
  },
  {
   "cell_type": "markdown",
   "metadata": {},
   "source": [
    "c) ['x', 'y', 'z', 'xx', 'yy', 'zz', 'xx', 'yy', 'zz', 'xxxx', 'yyyy', 'zzzz']"
   ]
  },
  {
   "cell_type": "code",
   "execution_count": 5,
   "metadata": {},
   "outputs": [
    {
     "name": "stdout",
     "output_type": "stream",
     "text": [
      "['x', 'y', 'z', 'xx', 'yy', 'zz', 'xxx', 'yyy', 'zzz', 'xxxx', 'yyyy', 'zzzz']\n"
     ]
    }
   ],
   "source": [
    "m=[a*i for i in range(1,5) for a in 'xyz']\n",
    "print(m)"
   ]
  },
  {
   "cell_type": "markdown",
   "metadata": {},
   "source": [
    "d) [[2], [3], [4], [3], [4], [5], [4], [5], [6]]"
   ]
  },
  {
   "cell_type": "code",
   "execution_count": 6,
   "metadata": {},
   "outputs": [
    {
     "name": "stdout",
     "output_type": "stream",
     "text": [
      "[[2], [3], [4], [3], [4], [5], [4], [5], [6]]\n"
     ]
    }
   ],
   "source": [
    "m=[[j] for i in range(2,5) for j in range(i,i+3)]\n",
    "print(m)"
   ]
  },
  {
   "cell_type": "markdown",
   "metadata": {},
   "source": [
    "e) [[2, 3, 4, 5], [3, 4, 5, 6], [4, 5, 6, 7], [5, 6, 7, 8]]"
   ]
  },
  {
   "cell_type": "code",
   "execution_count": 7,
   "metadata": {},
   "outputs": [
    {
     "name": "stdout",
     "output_type": "stream",
     "text": [
      "[[2, 3, 4, 5], [3, 4, 5, 6], [4, 5, 6, 7], [5, 6, 7, 8]]\n"
     ]
    }
   ],
   "source": [
    "m=[[j for j in range(i,i+4)] for i in range(2,6)]\n",
    "print(m)"
   ]
  },
  {
   "cell_type": "markdown",
   "metadata": {},
   "source": [
    "f) [(1, 1), (2, 1), (3, 1), (1, 2), (2, 2), (3, 2), (1, 3), (2, 3), (3, 3)]"
   ]
  },
  {
   "cell_type": "code",
   "execution_count": 8,
   "metadata": {},
   "outputs": [
    {
     "name": "stdout",
     "output_type": "stream",
     "text": [
      "[(1, 1), (2, 1), (3, 1), (1, 2), (2, 2), (3, 2), (1, 3), (2, 3), (3, 3)]\n"
     ]
    }
   ],
   "source": [
    "m=[(j,i) for i in range(1,4) for j in range(1,4)]\n",
    "print(m)"
   ]
  },
  {
   "cell_type": "markdown",
   "metadata": {},
   "source": [
    "3.Implement a function longestword() that takes a lists of words & returns the longest one.\n"
   ]
  },
  {
   "cell_type": "code",
   "execution_count": 16,
   "metadata": {},
   "outputs": [
    {
     "name": "stdout",
     "output_type": "stream",
     "text": [
      "Enter the words:India China Austria\n",
      "Given list of words : ['India', 'China', 'Austria']\n",
      "Longest word is:  Austria\n"
     ]
    }
   ],
   "source": [
    "def longestword():\n",
    "    m=[]\n",
    "    l=[]\n",
    "    m=[x for x in input(\"Enter the words:\").split()]\n",
    "    print(\"Given list of words :\",m)\n",
    "    long=0\n",
    "    for i in m:\n",
    "        if(len(i)>long):\n",
    "            long=len(i)\n",
    "            word=i\n",
    "    print(\"Longest word is: \",word)\n",
    "    \n",
    "longestword()"
   ]
  },
  {
   "cell_type": "markdown",
   "metadata": {},
   "source": [
    "# TASK 2"
   ]
  },
  {
   "cell_type": "markdown",
   "metadata": {},
   "source": [
    "1.1 Write a Python Program(with class concepts) to find the area of the triangle using the below\n",
    "formula.\n",
    "area = (s*(s-a)*(s-b)*(s-c)) ** 0.5\n",
    "Function to take the length of the sides of triangle from user should be defined in the parent\n",
    "class and function to calculate the area should be defined in subclass."
   ]
  },
  {
   "cell_type": "code",
   "execution_count": 19,
   "metadata": {},
   "outputs": [
    {
     "name": "stdout",
     "output_type": "stream",
     "text": [
      "Value of a :3\n",
      "Value of b :4\n",
      "Value of c :5\n",
      "Area of given triangle is: 6.0\n"
     ]
    }
   ],
   "source": [
    "class triangle:\n",
    "    def __init__(self):\n",
    "        self.a=0\n",
    "        self.b=0\n",
    "        self.c=0\n",
    "        self.s=0\n",
    "        \n",
    "    def assign(self):\n",
    "        self.a=int(input('Value of a :'))\n",
    "        self.b=int(input('Value of b :'))\n",
    "        self.c=int(input('Value of c :'))\n",
    "        self.s=(self.a+self.b+self.c)/2\n",
    "\n",
    "class calcuation(triangle):\n",
    "    def __init__(self):\n",
    "        triangle.__init__(self)\n",
    "    def area(self):\n",
    "        super().assign()\n",
    "        ar=(self.s*(self.s-self.a)*(self.s-self.b)*(self.s-self.c))**0.5\n",
    "        return ar\n",
    "    \n",
    "s=calcuation()\n",
    "print(\"Area of given triangle is:\",s.area()) "
   ]
  },
  {
   "cell_type": "markdown",
   "metadata": {},
   "source": [
    "1.2 Write a function filter_long_words() that takes a list of words and an integer n and returns\n",
    "the list of words that are longer than n."
   ]
  },
  {
   "cell_type": "code",
   "execution_count": 17,
   "metadata": {},
   "outputs": [
    {
     "name": "stdout",
     "output_type": "stream",
     "text": [
      "Enter the words:Game Cricket Hockey\n",
      "Given list : ['Game', 'Cricket', 'Hockey']\n",
      "Enter value of n:4\n",
      "['Cricket', 'Hockey']\n"
     ]
    }
   ],
   "source": [
    "def filter_long_words():\n",
    "    l=[]\n",
    "    l=[x for x in input(\"Enter the words:\").split()]\n",
    "    print(\"Given list :\", l)\n",
    "    n=int(input(\"Enter value of n:\"))\n",
    "    m=[]\n",
    "    for i in l:\n",
    "        if(len(i)>n):\n",
    "            m.append(i)\n",
    "    print(m)\n",
    "    \n",
    "filter_long_words()\n",
    "            "
   ]
  },
  {
   "cell_type": "markdown",
   "metadata": {},
   "source": [
    "2.1 Write a Python program using function concept that maps list of words into a list of integers\n",
    "representing the lengths of the corresponding words.\n",
    "Hint: If a list [ ab,cde,erty] is passed on to the python function output should come as [2,3,4]\n",
    "Here 2,3 and 4 are the lengths of the words in the list."
   ]
  },
  {
   "cell_type": "code",
   "execution_count": 18,
   "metadata": {},
   "outputs": [
    {
     "name": "stdout",
     "output_type": "stream",
     "text": [
      "Enter the words:ab cde erty\n",
      "Given list  : ['ab', 'cde', 'erty']\n",
      "[2, 3, 4]\n"
     ]
    }
   ],
   "source": [
    "def function(n):\n",
    "    m=list(map(len,n))\n",
    "    return m\n",
    "\n",
    "n=[i for i in input(\"Enter the words:\").split()]\n",
    "print(\"Given list  :\",n)\n",
    "print(function(n))\n"
   ]
  },
  {
   "cell_type": "markdown",
   "metadata": {},
   "source": [
    "2.2 Write a Python function which takes a character (i.e. a string of length 1) and returns True if\n",
    "it is a vowel, False otherwise."
   ]
  },
  {
   "cell_type": "code",
   "execution_count": 12,
   "metadata": {},
   "outputs": [
    {
     "name": "stdout",
     "output_type": "stream",
     "text": [
      "Enter character:A\n",
      "True\n"
     ]
    }
   ],
   "source": [
    "def function():\n",
    "    n=input(\"Enter character:\")\n",
    "    if(n=='A' or n=='E' or n=='I'or n=='O' or n=='U'or n=='a' or n=='e' or n=='i' or n=='o' or n=='u'):\n",
    "        return True\n",
    "    else:\n",
    "        return False\n",
    "\n",
    "k=function()\n",
    "print(k)\n",
    "    "
   ]
  }
 ],
 "metadata": {
  "kernelspec": {
   "display_name": "Python 3",
   "language": "python",
   "name": "python3"
  },
  "language_info": {
   "codemirror_mode": {
    "name": "ipython",
    "version": 3
   },
   "file_extension": ".py",
   "mimetype": "text/x-python",
   "name": "python",
   "nbconvert_exporter": "python",
   "pygments_lexer": "ipython3",
   "version": "3.7.4"
  }
 },
 "nbformat": 4,
 "nbformat_minor": 2
}
